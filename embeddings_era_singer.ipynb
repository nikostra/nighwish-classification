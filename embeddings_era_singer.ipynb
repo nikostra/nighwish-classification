{
 "cells": [
  {
   "cell_type": "code",
   "execution_count": 1,
   "metadata": {},
   "outputs": [],
   "source": [
    "from load_data import load_data_singer, load_data_album, load_data_era, plot_tsne\n",
    "from transformers import AutoTokenizer, AutoModel, pipeline, BertForSequenceClassification\n",
    "from sklearn.naive_bayes import MultinomialNB\n",
    "from sklearn.preprocessing import MinMaxScaler, StandardScaler\n",
    "from sklearn.metrics import classification_report\n",
    "from sklearn.ensemble import RandomForestClassifier\n",
    "from sklearn import svm\n",
    "from sklearn.pipeline import make_pipeline\n",
    "from sklearn.linear_model import LogisticRegression\n",
    "from sklearn.model_selection import cross_validate, GridSearchCV\n",
    "import numpy as np\n",
    "from sklearn.feature_extraction.text import CountVectorizer, TfidfVectorizer\n",
    "from sklearn.metrics import confusion_matrix, ConfusionMatrixDisplay"
   ]
  },
  {
   "cell_type": "markdown",
   "metadata": {},
   "source": [
    "# Era Classification"
   ]
  },
  {
   "cell_type": "code",
   "execution_count": 3,
   "metadata": {},
   "outputs": [],
   "source": [
    "train_df, test_df = load_data_era()"
   ]
  },
  {
   "cell_type": "code",
   "execution_count": 5,
   "metadata": {},
   "outputs": [],
   "source": [
    "# load the BERT model for the word embeddings\n",
    "model_name = \"bert-base-uncased\"\n",
    "tokenizer = AutoTokenizer.from_pretrained(model_name)\n",
    "model = AutoModel.from_pretrained(model_name)\n",
    "extractor = pipeline(\"feature-extraction\", batch_size=1024, model=model, tokenizer=tokenizer)"
   ]
  },
  {
   "cell_type": "code",
   "execution_count": 6,
   "metadata": {},
   "outputs": [],
   "source": [
    "def extract_embeddings(train_df, token):\n",
    "    \"\"\"Encodes lyrics and for each sentence, returns the vector corresponding to the given token.\n",
    "\n",
    "    Arguments:\n",
    "        lyrics (list[str]): The sentences to feed into the model.\n",
    "        token (str): The token to extract the embedding for.\n",
    "\n",
    "    Returns:\n",
    "        A list of vectors, one vector for each input sentence, corresponding to the contextual embedding\n",
    "        of `token` within `sentence`. (This can be either a PyTorch tensor or a NumPy array.)\n",
    "    \"\"\"\n",
    "\n",
    "    output = []\n",
    "    for _, row in train_df.iterrows():\n",
    "        # use the BERT model to translate the sentence (lyric) into a vector\n",
    "        input_ids = tokenizer(row[\"lyrics\"])[\"input_ids\"]\n",
    "        token_pos = 0\n",
    "        # find position of summary token (usually [CLS])\n",
    "        for i, id in enumerate(input_ids):\n",
    "            if tokenizer.convert_ids_to_tokens(id) == token.lower():\n",
    "                token_pos = i\n",
    "\n",
    "        # append vector of summary token of this lyric to the output\n",
    "        # we use truncation to handle one song being longer than the maximum number of tokens (743 > 512)\n",
    "        output.append(extractor(row[\"lyrics\"], return_tensors=True, truncation=True)[0,token_pos,:]) \n",
    "    return output"
   ]
  },
  {
   "cell_type": "code",
   "execution_count": 7,
   "metadata": {},
   "outputs": [
    {
     "name": "stderr",
     "output_type": "stream",
     "text": [
      "Token indices sequence length is longer than the specified maximum sequence length for this model (743 > 512). Running this sequence through the model will result in indexing errors\n"
     ]
    }
   ],
   "source": [
    "lyric_vectors = extract_embeddings(train_df,\"[CLS]\")\n",
    "lyric_vectors_np = [tensor.numpy() for tensor in lyric_vectors] # convert to numpy array to use for scikit_learn algos"
   ]
  },
  {
   "cell_type": "code",
   "execution_count": 8,
   "metadata": {},
   "outputs": [],
   "source": [
    "X = lyric_vectors_np\n",
    "y = train_df[\"era_id\"]\n",
    "\n",
    "# Define scoring metrics for CV\n",
    "scoring = ['precision_macro', 'recall_macro', \"r2\", \"accuracy\"]\n"
   ]
  },
  {
   "cell_type": "code",
   "execution_count": 9,
   "metadata": {},
   "outputs": [
    {
     "name": "stdout",
     "output_type": "stream",
     "text": [
      "Naive Bayes average CV accuracy:\n"
     ]
    },
    {
     "data": {
      "text/plain": [
       "0.7333333333333333"
      ]
     },
     "execution_count": 9,
     "metadata": {},
     "output_type": "execute_result"
    }
   ],
   "source": [
    "nb_model = make_pipeline(MinMaxScaler(), MultinomialNB())\n",
    "\n",
    "scores_nb = cross_validate(nb_model, X, y, scoring=scoring)\n",
    "print(\"Naive Bayes average CV accuracy:\")\n",
    "np.average(scores_nb[\"test_accuracy\"])\n"
   ]
  },
  {
   "cell_type": "code",
   "execution_count": 10,
   "metadata": {},
   "outputs": [
    {
     "name": "stdout",
     "output_type": "stream",
     "text": [
      "SVM model average CV accuracy:\n"
     ]
    },
    {
     "data": {
      "text/plain": [
       "0.76"
      ]
     },
     "execution_count": 10,
     "metadata": {},
     "output_type": "execute_result"
    }
   ],
   "source": [
    "svm_model = make_pipeline(StandardScaler(), svm.SVC(gamma='auto'))\n",
    "\n",
    "scores_svm = cross_validate(svm_model, X, y, scoring=scoring)\n",
    "print(\"SVM model average CV accuracy:\")\n",
    "np.average(scores_svm[\"test_accuracy\"])"
   ]
  },
  {
   "cell_type": "code",
   "execution_count": 11,
   "metadata": {},
   "outputs": [
    {
     "data": {
      "text/plain": [
       "{'max_depth': 3, 'min_samples_split': 5}"
      ]
     },
     "execution_count": 11,
     "metadata": {},
     "output_type": "execute_result"
    }
   ],
   "source": [
    "tree_model = RandomForestClassifier()\n",
    "\n",
    "param_grid = {'max_depth': [3, 5, 10],\n",
    "             'min_samples_split': [2, 5, 10]}\n",
    "tree_grid = GridSearchCV(tree_model, param_grid)\n",
    "tree_grid.fit(X, y)\n",
    "tree_grid.best_params_\n"
   ]
  },
  {
   "cell_type": "code",
   "execution_count": 12,
   "metadata": {},
   "outputs": [
    {
     "name": "stdout",
     "output_type": "stream",
     "text": [
      "Random Forest average CV accuracy:\n",
      "0.7733333333333333\n"
     ]
    }
   ],
   "source": [
    "tree_model = RandomForestClassifier(max_depth=3, min_samples_split=5)\n",
    "\n",
    "scores_tree = cross_validate(tree_model, X, y, scoring=scoring)\n",
    "print(\"Random Forest average CV accuracy:\")\n",
    "print(np.average(scores_tree[\"test_accuracy\"]))"
   ]
  },
  {
   "cell_type": "code",
   "execution_count": 13,
   "metadata": {},
   "outputs": [
    {
     "name": "stdout",
     "output_type": "stream",
     "text": [
      "Logistic Regression average CV accuracy:\n"
     ]
    },
    {
     "data": {
      "text/plain": [
       "0.7866666666666666"
      ]
     },
     "execution_count": 13,
     "metadata": {},
     "output_type": "execute_result"
    }
   ],
   "source": [
    "logreg_model = LogisticRegression(max_iter=1000)\n",
    "\n",
    "scores_logreg = cross_validate(logreg_model, X, y, scoring=scoring)\n",
    "print(\"Logistic Regression average CV accuracy:\")\n",
    "np.average(scores_logreg[\"test_accuracy\"])\n",
    "\n"
   ]
  },
  {
   "cell_type": "markdown",
   "metadata": {},
   "source": [
    "Logistic Regression shows the best accuracy so we choose this model. Now we test it on the previously withheld test dataset."
   ]
  },
  {
   "cell_type": "code",
   "execution_count": 14,
   "metadata": {},
   "outputs": [],
   "source": [
    "lyric_vectors_test = extract_embeddings(test_df,\"[CLS]\")\n",
    "lyric_vectors_np_test = [tensor.numpy() for tensor in lyric_vectors_test] \n",
    "\n",
    "X_test = lyric_vectors_np_test\n",
    "y_test = test_df[\"era_id\"]"
   ]
  },
  {
   "cell_type": "code",
   "execution_count": 15,
   "metadata": {},
   "outputs": [
    {
     "name": "stdout",
     "output_type": "stream",
     "text": [
      "                precision    recall  f1-score   support\n",
      "\n",
      "     Tarja Era       0.86      0.67      0.75         9\n",
      "Post Tarja Era       0.73      0.89      0.80         9\n",
      "\n",
      "      accuracy                           0.78        18\n",
      "     macro avg       0.79      0.78      0.77        18\n",
      "  weighted avg       0.79      0.78      0.77        18\n",
      "\n"
     ]
    },
    {
     "data": {
      "text/plain": [
       "[Text(0, 0, 'Tarja Era'), Text(1, 0, 'Post Tarja Era')]"
      ]
     },
     "execution_count": 15,
     "metadata": {},
     "output_type": "execute_result"
    },
    {
     "data": {
      "image/png": "[encoded data removed]",
      "text/plain": [
       "<Figure size 640x480 with 2 Axes>"
      ]
     },
     "metadata": {},
     "output_type": "display_data"
    }
   ],
   "source": [
    "logreg_model = LogisticRegression(max_iter=1000)\n",
    "\n",
    "# fit model to training data\n",
    "logreg_model.fit(X,y)\n",
    "# use the model to predict the test data\n",
    "logreg_pred = logreg_model.predict(X_test)\n",
    "\n",
    "### Display the prediction results:\n",
    "\n",
    "print(classification_report(y_test, logreg_pred, target_names = [\"Tarja Era\",\"Post Tarja Era\"]))\n",
    "cm = confusion_matrix(y_test, logreg_pred)\n",
    "cm_plot = ConfusionMatrixDisplay(confusion_matrix = cm, display_labels = [\"Tarja Era\",\"Post Tarja Era\"])\n",
    "cm_plot.plot()\n",
    "cm_plot.ax_.set_xticklabels([\"Tarja Era\",\"Post Tarja Era\"], rotation=90)\n"
   ]
  },
  {
   "cell_type": "markdown",
   "metadata": {},
   "source": [
    "# Classification for Singer"
   ]
  },
  {
   "cell_type": "code",
   "execution_count": 16,
   "metadata": {},
   "outputs": [],
   "source": [
    "train_df2, test_df2 = load_data_singer()"
   ]
  },
  {
   "cell_type": "code",
   "execution_count": 17,
   "metadata": {},
   "outputs": [],
   "source": [
    "lyric_vectors2 = extract_embeddings(train_df2,\"[CLS]\")\n",
    "lyric_vectors_np2 = [tensor.numpy() for tensor in lyric_vectors2] # convert to numpy array to use for scikit_learn algos"
   ]
  },
  {
   "cell_type": "code",
   "execution_count": 18,
   "metadata": {},
   "outputs": [],
   "source": [
    "X2 = lyric_vectors_np2\n",
    "y2 = train_df2[\"singer_id\"]\n",
    "\n",
    "# Define scoring metrics for CV (we add F1 as accuracy is not enough here)\n",
    "scoring = ['precision_macro', 'recall_macro', \"r2\", \"accuracy\", \"f1_macro\"]"
   ]
  },
  {
   "cell_type": "code",
   "execution_count": 19,
   "metadata": {},
   "outputs": [
    {
     "name": "stdout",
     "output_type": "stream",
     "text": [
      "Naive Bayes average CV accuracy:\n",
      "0.7066666666666666\n",
      "0.6317023327549642\n"
     ]
    },
    {
     "name": "stderr",
     "output_type": "stream",
     "text": [
      "C:\\Users\\nikos\\AppData\\Roaming\\Python\\Python311\\site-packages\\sklearn\\metrics\\_classification.py:1469: UndefinedMetricWarning: Precision is ill-defined and being set to 0.0 in labels with no predicted samples. Use `zero_division` parameter to control this behavior.\n",
      "  _warn_prf(average, modifier, msg_start, len(result))\n"
     ]
    }
   ],
   "source": [
    "nb_model2 = make_pipeline(MinMaxScaler(), MultinomialNB())\n",
    "\n",
    "scores_nb2 = cross_validate(nb_model2, X2, y2, scoring=scoring)\n",
    "print(\"Naive Bayes average CV accuracy:\")\n",
    "print(np.average(scores_nb2[\"test_accuracy\"]))\n",
    "print(np.average(scores_nb2[\"test_f1_macro\"]))\n"
   ]
  },
  {
   "cell_type": "code",
   "execution_count": 20,
   "metadata": {},
   "outputs": [
    {
     "name": "stdout",
     "output_type": "stream",
     "text": [
      "SVM model average CV accuracy:\n",
      "0.7066666666666668\n",
      "0.5525274483970136\n"
     ]
    },
    {
     "name": "stderr",
     "output_type": "stream",
     "text": [
      "C:\\Users\\nikos\\AppData\\Roaming\\Python\\Python311\\site-packages\\sklearn\\metrics\\_classification.py:1469: UndefinedMetricWarning: Precision is ill-defined and being set to 0.0 in labels with no predicted samples. Use `zero_division` parameter to control this behavior.\n",
      "  _warn_prf(average, modifier, msg_start, len(result))\n",
      "C:\\Users\\nikos\\AppData\\Roaming\\Python\\Python311\\site-packages\\sklearn\\metrics\\_classification.py:1469: UndefinedMetricWarning: Precision is ill-defined and being set to 0.0 in labels with no predicted samples. Use `zero_division` parameter to control this behavior.\n",
      "  _warn_prf(average, modifier, msg_start, len(result))\n",
      "C:\\Users\\nikos\\AppData\\Roaming\\Python\\Python311\\site-packages\\sklearn\\metrics\\_classification.py:1469: UndefinedMetricWarning: Precision is ill-defined and being set to 0.0 in labels with no predicted samples. Use `zero_division` parameter to control this behavior.\n",
      "  _warn_prf(average, modifier, msg_start, len(result))\n"
     ]
    }
   ],
   "source": [
    "svm_model2 = make_pipeline(StandardScaler(), svm.SVC(gamma='auto'))\n",
    "\n",
    "scores_svm2 = cross_validate(svm_model2, X2, y2, scoring=scoring)\n",
    "print(\"SVM model average CV accuracy:\")\n",
    "print(np.average(scores_svm2[\"test_accuracy\"]))\n",
    "print(np.average(scores_svm2[\"test_f1_macro\"]))\n"
   ]
  },
  {
   "cell_type": "code",
   "execution_count": 21,
   "metadata": {},
   "outputs": [
    {
     "data": {
      "text/plain": [
       "{'max_depth': 5, 'min_samples_split': 5}"
      ]
     },
     "execution_count": 21,
     "metadata": {},
     "output_type": "execute_result"
    }
   ],
   "source": [
    "tree_model2 = RandomForestClassifier()\n",
    "\n",
    "param_grid2 = {'max_depth': [3, 5, 10],\n",
    "             'min_samples_split': [2, 5, 10]}\n",
    "tree_grid2 = GridSearchCV(tree_model2, param_grid2)\n",
    "tree_grid2.fit(X2, y2)\n",
    "tree_grid2.best_params_\n"
   ]
  },
  {
   "cell_type": "code",
   "execution_count": 22,
   "metadata": {},
   "outputs": [
    {
     "name": "stderr",
     "output_type": "stream",
     "text": [
      "C:\\Users\\nikos\\AppData\\Roaming\\Python\\Python311\\site-packages\\sklearn\\metrics\\_classification.py:1469: UndefinedMetricWarning: Precision is ill-defined and being set to 0.0 in labels with no predicted samples. Use `zero_division` parameter to control this behavior.\n",
      "  _warn_prf(average, modifier, msg_start, len(result))\n"
     ]
    },
    {
     "name": "stdout",
     "output_type": "stream",
     "text": [
      "Random Forest average CV accuracy:\n",
      "0.76\n",
      "0.6401731601731602\n"
     ]
    },
    {
     "name": "stderr",
     "output_type": "stream",
     "text": [
      "C:\\Users\\nikos\\AppData\\Roaming\\Python\\Python311\\site-packages\\sklearn\\metrics\\_classification.py:1469: UndefinedMetricWarning: Precision is ill-defined and being set to 0.0 in labels with no predicted samples. Use `zero_division` parameter to control this behavior.\n",
      "  _warn_prf(average, modifier, msg_start, len(result))\n"
     ]
    }
   ],
   "source": [
    "tree_model2 = RandomForestClassifier(max_depth=5, min_samples_split=5)\n",
    "\n",
    "scores_tree2= cross_validate(tree_model2, X2, y2, scoring=scoring)\n",
    "print(\"Random Forest average CV accuracy:\")\n",
    "print(np.average(scores_tree2[\"test_accuracy\"]))\n",
    "print(np.average(scores_tree2[\"test_f1_macro\"]))\n"
   ]
  },
  {
   "cell_type": "code",
   "execution_count": 23,
   "metadata": {},
   "outputs": [
    {
     "name": "stdout",
     "output_type": "stream",
     "text": [
      "Logistic Regression average CV accuracy:\n",
      "0.7466666666666667\n",
      "0.69938662644545\n"
     ]
    }
   ],
   "source": [
    "logreg_model2 = LogisticRegression(max_iter=1000)\n",
    "\n",
    "scores_logreg2 = cross_validate(logreg_model2, X2, y2, scoring=scoring)\n",
    "print(\"Logistic Regression average CV accuracy:\")\n",
    "print(np.average(scores_logreg2[\"test_accuracy\"]))\n",
    "print(np.average(scores_logreg2[\"test_f1_macro\"]))\n"
   ]
  },
  {
   "cell_type": "markdown",
   "metadata": {},
   "source": [
    "Again Logistic Regression proves to be the best model, so we choose this to use on the test dataset."
   ]
  },
  {
   "cell_type": "code",
   "execution_count": 25,
   "metadata": {},
   "outputs": [],
   "source": [
    "lyric_vectors_test = extract_embeddings(test_df2,\"[CLS]\")\n",
    "lyric_vectors_np_test = [tensor.numpy() for tensor in lyric_vectors_test] \n",
    "\n",
    "X_test = lyric_vectors_np_test\n",
    "y_test = test_df2[\"singer_id\"]"
   ]
  },
  {
   "cell_type": "code",
   "execution_count": 26,
   "metadata": {},
   "outputs": [
    {
     "name": "stdout",
     "output_type": "stream",
     "text": [
      "               precision    recall  f1-score   support\n",
      "\n",
      "Tarja Turunen       0.60      0.75      0.67         8\n",
      " Annika Olzon       0.50      0.40      0.44         5\n",
      " Floor Jansen       0.50      0.40      0.44         5\n",
      "\n",
      "     accuracy                           0.56        18\n",
      "    macro avg       0.53      0.52      0.52        18\n",
      " weighted avg       0.54      0.56      0.54        18\n",
      "\n"
     ]
    },
    {
     "data": {
      "text/plain": [
       "[Text(0, 0, 'Tarja Turunen'),\n",
       " Text(1, 0, 'Annika Olzon'),\n",
       " Text(2, 0, 'Floor Jansen')]"
      ]
     },
     "execution_count": 26,
     "metadata": {},
     "output_type": "execute_result"
    },
    {
     "data": {
      "image/png": "[encoded data removed]",
      "text/plain": [
       "<Figure size 640x480 with 2 Axes>"
      ]
     },
     "metadata": {},
     "output_type": "display_data"
    }
   ],
   "source": [
    "logreg_model = LogisticRegression(max_iter=1000)\n",
    "\n",
    "# fit model to training data\n",
    "logreg_model.fit(X2,y2)\n",
    "logreg_pred = logreg_model.predict(X_test)\n",
    "\n",
    "### Display the prediction results:\n",
    "\n",
    "print(classification_report(y_test, logreg_pred, target_names = [\"Tarja Turunen\",\"Annika Olzon\", \"Floor Jansen\"]))\n",
    "cm = confusion_matrix(y_test, logreg_pred)\n",
    "cm_plot = ConfusionMatrixDisplay(confusion_matrix = cm, display_labels = [\"Tarja Turunen\",\"Annika Olzon\", \"Floor Jansen\"])\n",
    "cm_plot.plot()\n",
    "cm_plot.ax_.set_xticklabels([\"Tarja Turunen\",\"Annika Olzon\", \"Floor Jansen\"], rotation=90)\n"
   ]
  }
 ],
 "metadata": {
  "kernelspec": {
   "display_name": "liu-text-mining",
   "language": "python",
   "name": "python3"
  },
  "language_info": {
   "codemirror_mode": {
    "name": "ipython",
    "version": 3
   },
   "file_extension": ".py",
   "mimetype": "text/x-python",
   "name": "python",
   "nbconvert_exporter": "python",
   "pygments_lexer": "ipython3",
   "version": "3.11.6"
  }
 },
 "nbformat": 4,
 "nbformat_minor": 2
}
